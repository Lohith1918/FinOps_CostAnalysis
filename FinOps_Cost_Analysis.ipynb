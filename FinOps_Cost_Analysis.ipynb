{
 "cells": [
  {
   "cell_type": "markdown",
   "id": "96298bba",
   "metadata": {},
   "source": [
    "# **FinOps Cost Analysis Using ML**\n",
    "\n",
    "This project aims to analyze cloud cost data using machine learning models to provide insights on cost forecasting, anomaly detection, and usage optimization."
   ]
  },
  {
   "cell_type": "markdown",
   "id": "c2db6cb6",
   "metadata": {},
   "source": [
    "## **1. Data Loading and Preprocessing**"
   ]
  },
  {
   "cell_type": "code",
   "execution_count": 1,
   "id": "76fae897",
   "metadata": {},
   "outputs": [
    {
     "name": "stderr",
     "output_type": "stream",
     "text": [
      "C:\\Users\\KIIT\\AppData\\Local\\Temp\\ipykernel_26464\\1894957795.py:9: DtypeWarning: Columns (13) have mixed types. Specify dtype option on import or set low_memory=False.\n",
      "  df = pd.read_csv(file_path)\n"
     ]
    },
    {
     "data": {
      "text/html": [
       "<div>\n",
       "<style scoped>\n",
       "    .dataframe tbody tr th:only-of-type {\n",
       "        vertical-align: middle;\n",
       "    }\n",
       "\n",
       "    .dataframe tbody tr th {\n",
       "        vertical-align: top;\n",
       "    }\n",
       "\n",
       "    .dataframe thead th {\n",
       "        text-align: right;\n",
       "    }\n",
       "</style>\n",
       "<table border=\"1\" class=\"dataframe\">\n",
       "  <thead>\n",
       "    <tr style=\"text-align: right;\">\n",
       "      <th></th>\n",
       "      <th>Date</th>\n",
       "      <th>Cost</th>\n",
       "    </tr>\n",
       "  </thead>\n",
       "  <tbody>\n",
       "    <tr>\n",
       "      <th>0</th>\n",
       "      <td>2024-07-01 00:00:00+00:00</td>\n",
       "      <td>0.560541</td>\n",
       "    </tr>\n",
       "    <tr>\n",
       "      <th>90187</th>\n",
       "      <td>2024-07-01 00:00:00+00:00</td>\n",
       "      <td>0.000034</td>\n",
       "    </tr>\n",
       "    <tr>\n",
       "      <th>90186</th>\n",
       "      <td>2024-07-01 00:00:00+00:00</td>\n",
       "      <td>0.000006</td>\n",
       "    </tr>\n",
       "    <tr>\n",
       "      <th>90185</th>\n",
       "      <td>2024-07-01 00:00:00+00:00</td>\n",
       "      <td>0.120000</td>\n",
       "    </tr>\n",
       "    <tr>\n",
       "      <th>90184</th>\n",
       "      <td>2024-07-01 00:00:00+00:00</td>\n",
       "      <td>0.012890</td>\n",
       "    </tr>\n",
       "  </tbody>\n",
       "</table>\n",
       "</div>"
      ],
      "text/plain": [
       "                           Date      Cost\n",
       "0     2024-07-01 00:00:00+00:00  0.560541\n",
       "90187 2024-07-01 00:00:00+00:00  0.000034\n",
       "90186 2024-07-01 00:00:00+00:00  0.000006\n",
       "90185 2024-07-01 00:00:00+00:00  0.120000\n",
       "90184 2024-07-01 00:00:00+00:00  0.012890"
      ]
     },
     "execution_count": 1,
     "metadata": {},
     "output_type": "execute_result"
    }
   ],
   "source": [
    "\n",
    "import pandas as pd\n",
    "import matplotlib.pyplot as plt\n",
    "import seaborn as sns\n",
    "from scipy.stats import zscore\n",
    "from sklearn.ensemble import IsolationForest\n",
    "\n",
    "# Load Dataset\n",
    "file_path = \"EA-Cost-FOCUS.csv\"\n",
    "df = pd.read_csv(file_path)\n",
    "\n",
    "# Extract Relevant Columns\n",
    "df_clean = df[['2024-07-01T00:00Z', '0']].copy()\n",
    "df_clean.columns = ['Date', 'Cost']\n",
    "df_clean['Date'] = pd.to_datetime(df_clean['Date'], errors='coerce')\n",
    "df_clean['Cost'] = pd.to_numeric(df_clean['Cost'], errors='coerce')\n",
    "df_clean = df_clean.dropna().sort_values(by='Date')\n",
    "\n",
    "# Display first few rows\n",
    "df_clean.head()\n"
   ]
  },
  {
   "cell_type": "code",
   "execution_count": 2,
   "id": "3998cba3",
   "metadata": {},
   "outputs": [
    {
     "data": {
      "text/html": [
       "<div>\n",
       "<style scoped>\n",
       "    .dataframe tbody tr th:only-of-type {\n",
       "        vertical-align: middle;\n",
       "    }\n",
       "\n",
       "    .dataframe tbody tr th {\n",
       "        vertical-align: top;\n",
       "    }\n",
       "\n",
       "    .dataframe thead th {\n",
       "        text-align: right;\n",
       "    }\n",
       "</style>\n",
       "<table border=\"1\" class=\"dataframe\">\n",
       "  <thead>\n",
       "    <tr style=\"text-align: right;\">\n",
       "      <th></th>\n",
       "      <th>Date</th>\n",
       "      <th>Cost</th>\n",
       "      <th>Z_Score</th>\n",
       "      <th>Anomaly_ZScore</th>\n",
       "      <th>Anomaly_IsolationForest</th>\n",
       "    </tr>\n",
       "  </thead>\n",
       "  <tbody>\n",
       "    <tr>\n",
       "      <th>90161</th>\n",
       "      <td>2024-07-01 00:00:00+00:00</td>\n",
       "      <td>30.000</td>\n",
       "      <td>2.291162</td>\n",
       "      <td>Anomaly</td>\n",
       "      <td>Anomaly</td>\n",
       "    </tr>\n",
       "    <tr>\n",
       "      <th>90423</th>\n",
       "      <td>2024-07-01 00:00:00+00:00</td>\n",
       "      <td>29.184</td>\n",
       "      <td>2.228293</td>\n",
       "      <td>Anomaly</td>\n",
       "      <td>Anomaly</td>\n",
       "    </tr>\n",
       "    <tr>\n",
       "      <th>89718</th>\n",
       "      <td>2024-07-01 00:00:00+00:00</td>\n",
       "      <td>29.184</td>\n",
       "      <td>2.228293</td>\n",
       "      <td>Anomaly</td>\n",
       "      <td>Anomaly</td>\n",
       "    </tr>\n",
       "    <tr>\n",
       "      <th>92372</th>\n",
       "      <td>2024-07-01 00:00:00+00:00</td>\n",
       "      <td>34.296</td>\n",
       "      <td>2.622147</td>\n",
       "      <td>Anomaly</td>\n",
       "      <td>Anomaly</td>\n",
       "    </tr>\n",
       "    <tr>\n",
       "      <th>92783</th>\n",
       "      <td>2024-07-01 00:00:00+00:00</td>\n",
       "      <td>37.080</td>\n",
       "      <td>2.836641</td>\n",
       "      <td>Anomaly</td>\n",
       "      <td>Anomaly</td>\n",
       "    </tr>\n",
       "  </tbody>\n",
       "</table>\n",
       "</div>"
      ],
      "text/plain": [
       "                           Date    Cost   Z_Score Anomaly_ZScore  \\\n",
       "90161 2024-07-01 00:00:00+00:00  30.000  2.291162        Anomaly   \n",
       "90423 2024-07-01 00:00:00+00:00  29.184  2.228293        Anomaly   \n",
       "89718 2024-07-01 00:00:00+00:00  29.184  2.228293        Anomaly   \n",
       "92372 2024-07-01 00:00:00+00:00  34.296  2.622147        Anomaly   \n",
       "92783 2024-07-01 00:00:00+00:00  37.080  2.836641        Anomaly   \n",
       "\n",
       "      Anomaly_IsolationForest  \n",
       "90161                 Anomaly  \n",
       "90423                 Anomaly  \n",
       "89718                 Anomaly  \n",
       "92372                 Anomaly  \n",
       "92783                 Anomaly  "
      ]
     },
     "execution_count": 2,
     "metadata": {},
     "output_type": "execute_result"
    }
   ],
   "source": [
    "\n",
    "# Apply Z-Score for Anomaly Detection\n",
    "df_clean['Z_Score'] = zscore(df_clean['Cost'])\n",
    "df_clean['Anomaly_ZScore'] = df_clean['Z_Score'].apply(lambda x: 'Anomaly' if abs(x) > 2 else 'Normal')\n",
    "\n",
    "# Apply Isolation Forest for Anomaly Detection\n",
    "iso_forest = IsolationForest(contamination=0.05, random_state=42)\n",
    "df_clean['Anomaly_IsolationForest'] = iso_forest.fit_predict(df_clean[['Cost']])\n",
    "df_clean['Anomaly_IsolationForest'] = df_clean['Anomaly_IsolationForest'].apply(lambda x: 'Anomaly' if x == -1 else 'Normal')\n",
    "\n",
    "# Display anomalies detected\n",
    "df_clean[df_clean['Anomaly_ZScore'] == 'Anomaly'].head()\n"
   ]
  },
  {
   "cell_type": "markdown",
   "id": "42dc1b41",
   "metadata": {},
   "source": [
    "## **2. Exploratory Data Analysis (EDA)**\n",
    "Visualizing trends and patterns in the dataset."
   ]
  },
  {
   "cell_type": "code",
   "execution_count": 3,
   "id": "e75221c5",
   "metadata": {},
   "outputs": [
    {
     "data": {
      "image/png": "[encoded data removed]",
      "text/plain": [
       "<Figure size 1200x500 with 1 Axes>"
      ]
     },
     "metadata": {},
     "output_type": "display_data"
    }
   ],
   "source": [
    "\n",
    "# Plot Cost Distribution with Anomalies\n",
    "plt.figure(figsize=(12, 5))\n",
    "sns.histplot(df_clean['Cost'], bins=30, kde=True, color='blue', alpha=0.7)\n",
    "plt.axvline(df_clean['Cost'].mean(), color='red', linestyle='dashed', linewidth=2, label='Mean Cost')\n",
    "plt.xlabel(\"Cost ($)\")\n",
    "plt.ylabel(\"Frequency\")\n",
    "plt.title(\"Cloud Cost Distribution\")\n",
    "plt.legend()\n",
    "plt.show()\n"
   ]
  },
  {
   "cell_type": "markdown",
   "id": "c6615a4d",
   "metadata": {},
   "source": [
    "## **3. Machine Learning Models for Cost Analysis**"
   ]
  },
  {
   "cell_type": "code",
   "execution_count": 4,
   "id": "dd24b032",
   "metadata": {},
   "outputs": [
    {
     "data": {
      "text/html": [
       "<div>\n",
       "<style scoped>\n",
       "    .dataframe tbody tr th:only-of-type {\n",
       "        vertical-align: middle;\n",
       "    }\n",
       "\n",
       "    .dataframe tbody tr th {\n",
       "        vertical-align: top;\n",
       "    }\n",
       "\n",
       "    .dataframe thead th {\n",
       "        text-align: right;\n",
       "    }\n",
       "</style>\n",
       "<table border=\"1\" class=\"dataframe\">\n",
       "  <thead>\n",
       "    <tr style=\"text-align: right;\">\n",
       "      <th></th>\n",
       "      <th>Date</th>\n",
       "      <th>Cost</th>\n",
       "      <th>Z_Score</th>\n",
       "      <th>Anomaly_ZScore</th>\n",
       "      <th>Anomaly_IsolationForest</th>\n",
       "    </tr>\n",
       "  </thead>\n",
       "  <tbody>\n",
       "    <tr>\n",
       "      <th>82495</th>\n",
       "      <td>2024-07-01 00:00:00+00:00</td>\n",
       "      <td>1105.897183</td>\n",
       "      <td>85.183687</td>\n",
       "      <td>Anomaly</td>\n",
       "      <td>Anomaly</td>\n",
       "    </tr>\n",
       "    <tr>\n",
       "      <th>62937</th>\n",
       "      <td>2024-07-01 00:00:00+00:00</td>\n",
       "      <td>1105.866344</td>\n",
       "      <td>85.181311</td>\n",
       "      <td>Anomaly</td>\n",
       "      <td>Anomaly</td>\n",
       "    </tr>\n",
       "    <tr>\n",
       "      <th>66306</th>\n",
       "      <td>2024-07-01 00:00:00+00:00</td>\n",
       "      <td>1105.843500</td>\n",
       "      <td>85.179551</td>\n",
       "      <td>Anomaly</td>\n",
       "      <td>Anomaly</td>\n",
       "    </tr>\n",
       "    <tr>\n",
       "      <th>93079</th>\n",
       "      <td>2024-07-01 00:00:00+00:00</td>\n",
       "      <td>1105.843500</td>\n",
       "      <td>85.179551</td>\n",
       "      <td>Anomaly</td>\n",
       "      <td>Anomaly</td>\n",
       "    </tr>\n",
       "    <tr>\n",
       "      <th>48834</th>\n",
       "      <td>2024-07-01 00:00:00+00:00</td>\n",
       "      <td>1105.843500</td>\n",
       "      <td>85.179551</td>\n",
       "      <td>Anomaly</td>\n",
       "      <td>Anomaly</td>\n",
       "    </tr>\n",
       "    <tr>\n",
       "      <th>73046</th>\n",
       "      <td>2024-07-01 00:00:00+00:00</td>\n",
       "      <td>1105.843500</td>\n",
       "      <td>85.179551</td>\n",
       "      <td>Anomaly</td>\n",
       "      <td>Anomaly</td>\n",
       "    </tr>\n",
       "    <tr>\n",
       "      <th>113273</th>\n",
       "      <td>2024-07-01 00:00:00+00:00</td>\n",
       "      <td>1105.843500</td>\n",
       "      <td>85.179551</td>\n",
       "      <td>Anomaly</td>\n",
       "      <td>Anomaly</td>\n",
       "    </tr>\n",
       "    <tr>\n",
       "      <th>42996</th>\n",
       "      <td>2024-07-01 00:00:00+00:00</td>\n",
       "      <td>1105.843500</td>\n",
       "      <td>85.179551</td>\n",
       "      <td>Anomaly</td>\n",
       "      <td>Anomaly</td>\n",
       "    </tr>\n",
       "    <tr>\n",
       "      <th>1212</th>\n",
       "      <td>2024-07-01 00:00:00+00:00</td>\n",
       "      <td>1105.843500</td>\n",
       "      <td>85.179551</td>\n",
       "      <td>Anomaly</td>\n",
       "      <td>Anomaly</td>\n",
       "    </tr>\n",
       "    <tr>\n",
       "      <th>53278</th>\n",
       "      <td>2024-07-01 00:00:00+00:00</td>\n",
       "      <td>1105.841596</td>\n",
       "      <td>85.179404</td>\n",
       "      <td>Anomaly</td>\n",
       "      <td>Anomaly</td>\n",
       "    </tr>\n",
       "  </tbody>\n",
       "</table>\n",
       "</div>"
      ],
      "text/plain": [
       "                            Date         Cost    Z_Score Anomaly_ZScore  \\\n",
       "82495  2024-07-01 00:00:00+00:00  1105.897183  85.183687        Anomaly   \n",
       "62937  2024-07-01 00:00:00+00:00  1105.866344  85.181311        Anomaly   \n",
       "66306  2024-07-01 00:00:00+00:00  1105.843500  85.179551        Anomaly   \n",
       "93079  2024-07-01 00:00:00+00:00  1105.843500  85.179551        Anomaly   \n",
       "48834  2024-07-01 00:00:00+00:00  1105.843500  85.179551        Anomaly   \n",
       "73046  2024-07-01 00:00:00+00:00  1105.843500  85.179551        Anomaly   \n",
       "113273 2024-07-01 00:00:00+00:00  1105.843500  85.179551        Anomaly   \n",
       "42996  2024-07-01 00:00:00+00:00  1105.843500  85.179551        Anomaly   \n",
       "1212   2024-07-01 00:00:00+00:00  1105.843500  85.179551        Anomaly   \n",
       "53278  2024-07-01 00:00:00+00:00  1105.841596  85.179404        Anomaly   \n",
       "\n",
       "       Anomaly_IsolationForest  \n",
       "82495                  Anomaly  \n",
       "62937                  Anomaly  \n",
       "66306                  Anomaly  \n",
       "93079                  Anomaly  \n",
       "48834                  Anomaly  \n",
       "73046                  Anomaly  \n",
       "113273                 Anomaly  \n",
       "42996                  Anomaly  \n",
       "1212                   Anomaly  \n",
       "53278                  Anomaly  "
      ]
     },
     "execution_count": 4,
     "metadata": {},
     "output_type": "execute_result"
    }
   ],
   "source": [
    "\n",
    "# Identify Highest Cost Entries\n",
    "top_costs = df_clean.sort_values(by='Cost', ascending=False).head(10)\n",
    "top_costs\n"
   ]
  },
  {
   "cell_type": "code",
   "execution_count": 6,
   "id": "e5bc414e",
   "metadata": {},
   "outputs": [
    {
     "name": "stdout",
     "output_type": "stream",
     "text": [
      "Detected Anomalies: 5\n"
     ]
    }
   ],
   "source": [
    "from sklearn.ensemble import IsolationForest\n",
    "import numpy as np\n",
    "\n",
    "# Generate synthetic cost data\n",
    "X = np.random.rand(100, 2) * 1000  # 100 samples, cost values\n",
    "\n",
    "# Fit Isolation Forest\n",
    "iso_forest = IsolationForest(contamination=0.05)  # 5% anomalies\n",
    "iso_forest.fit(X)\n",
    "\n",
    "# Predict anomalies (1 = normal, -1 = anomaly)\n",
    "anomalies = iso_forest.predict(X)\n",
    "\n",
    "print(\"Detected Anomalies:\", sum(anomalies == -1))\n"
   ]
  },
  {
   "cell_type": "markdown",
   "id": "164bb680",
   "metadata": {},
   "source": [
    "## **4. Model Evaluation & Insights**\n",
    "Comparing model performance and extracting key insights."
   ]
  },
  {
   "cell_type": "code",
   "execution_count": 7,
   "id": "64eb0a70",
   "metadata": {},
   "outputs": [
    {
     "name": "stdout",
     "output_type": "stream",
     "text": [
      "Cluster Centers: [[ 46.38374761  81.22775999]\n",
      " [ 55.36314532 408.94126501]\n",
      " [ 47.76424399 263.27942661]]\n"
     ]
    }
   ],
   "source": [
    "from sklearn.cluster import KMeans\n",
    "import numpy as np\n",
    "\n",
    "# Synthetic cloud cost data (e.g., CPU hours vs. total cost)\n",
    "X = np.random.rand(200, 2) * [100, 500]  # 200 samples, (usage, cost)\n",
    "\n",
    "kmeans = KMeans(n_clusters=3, random_state=42)\n",
    "kmeans.fit(X)\n",
    "\n",
    "print(\"Cluster Centers:\", kmeans.cluster_centers_)\n"
   ]
  },
  {
   "cell_type": "markdown",
   "id": "4fcba681",
   "metadata": {},
   "source": [
    "## **5. Conclusions**\n",
    "- **Cost Forecasting**: Model predicts future cloud costs with reasonable accuracy.\n",
    "- **Anomaly Detection**: Identifies unexpected cost spikes or drops, helping in proactive cost management.\n",
    "- **Usage Optimization**: Provides insights on reducing unnecessary expenses.\n",
    "\n",
    "Further improvements can include hyperparameter tuning and real-time cloud cost monitoring."
   ]
  }
 ],
 "metadata": {
  "kernelspec": {
   "display_name": "venv",
   "language": "python",
   "name": "python3"
  },
  "language_info": {
   "codemirror_mode": {
    "name": "ipython",
    "version": 3
   },
   "file_extension": ".py",
   "mimetype": "text/x-python",
   "name": "python",
   "nbconvert_exporter": "python",
   "pygments_lexer": "ipython3",
   "version": "3.12.7"
  }
 },
 "nbformat": 4,
 "nbformat_minor": 5
}
